{
 "cells": [
  {
   "cell_type": "markdown",
   "id": "5e381011-78d3-44d3-beb8-0cfc54d367a3",
   "metadata": {},
   "source": [
    "## Task 1"
   ]
  },
  {
   "cell_type": "code",
   "execution_count": 2,
   "id": "34b270ed-4601-4243-a121-8ee34d069c51",
   "metadata": {},
   "outputs": [],
   "source": [
    "import numpy as np"
   ]
  },
  {
   "cell_type": "code",
   "execution_count": 3,
   "id": "81c963c6-544b-48ec-a5aa-dcc0cd660b06",
   "metadata": {},
   "outputs": [
    {
     "name": "stdin",
     "output_type": "stream",
     "text": [
      "input n:  5\n"
     ]
    },
    {
     "name": "stdout",
     "output_type": "stream",
     "text": [
      "[[1 0 0 0 0]\n",
      " [0 2 0 0 0]\n",
      " [0 0 3 0 0]\n",
      " [0 0 0 4 0]\n",
      " [0 0 0 0 5]]\n",
      "CPU times: total: 0 ns\n",
      "Wall time: 3.76 s\n"
     ]
    }
   ],
   "source": [
    "%%time\n",
    "# task 1 \n",
    "def task_1():\n",
    "    n = int(input(\"input n: \"))\n",
    "    \n",
    "    a = np.arange(1, n + 1)\n",
    "    a = np.diag(a)\n",
    "    print(a)\n",
    "\n",
    "task_1()"
   ]
  },
  {
   "cell_type": "code",
   "execution_count": 4,
   "id": "0e3a3dce-c995-46ca-a4aa-fdf1f7fa8f3e",
   "metadata": {},
   "outputs": [
    {
     "name": "stdin",
     "output_type": "stream",
     "text": [
      "input n:  5\n"
     ]
    },
    {
     "name": "stdout",
     "output_type": "stream",
     "text": [
      "[1, 0, 0, 0, 0]\n",
      "[0, 2, 0, 0, 0]\n",
      "[0, 0, 3, 0, 0]\n",
      "[0, 0, 0, 4, 0]\n",
      "[0, 0, 0, 0, 5]\n",
      "CPU times: total: 0 ns\n",
      "Wall time: 4.09 s\n"
     ]
    }
   ],
   "source": [
    "%%time\n",
    "def task_1():\n",
    "    n = int(input(\"input n: \"))\n",
    "    \n",
    "    a = [[i + 1 if i == j else 0 for j in range(n)] for i in range(n)]\n",
    "    \n",
    "    for row in a:\n",
    "        print(row)\n",
    "\n",
    "task_1()"
   ]
  },
  {
   "cell_type": "code",
   "execution_count": 5,
   "id": "ff89a525-2836-40f0-a3cd-4e48522233bd",
   "metadata": {},
   "outputs": [
    {
     "name": "stdin",
     "output_type": "stream",
     "text": [
      "input n:  5\n"
     ]
    },
    {
     "name": "stdout",
     "output_type": "stream",
     "text": [
      "[[1 1 1 1 1]\n",
      " [0 0 0 0 0]\n",
      " [1 1 1 1 1]\n",
      " [0 0 0 0 0]\n",
      " [1 1 1 1 1]]\n",
      "CPU times: total: 0 ns\n",
      "Wall time: 9.24 s\n"
     ]
    }
   ],
   "source": [
    "%%time\n",
    "# task 5\n",
    "def task_5():\n",
    "    n = int(input(\"input n: \"))\n",
    "    \n",
    "    a = np.zeros((n, n), dtype=int)\n",
    "    a[::2] = 1\n",
    "    print(a)\n",
    "\n",
    "task_5()"
   ]
  },
  {
   "cell_type": "code",
   "execution_count": 6,
   "id": "0b2d68ec-82eb-417a-9169-dea7c17c86eb",
   "metadata": {},
   "outputs": [
    {
     "name": "stdin",
     "output_type": "stream",
     "text": [
      "input n:  5\n"
     ]
    },
    {
     "name": "stdout",
     "output_type": "stream",
     "text": [
      "[1, 1, 1, 1, 1]\n",
      "[0, 0, 0, 0, 0]\n",
      "[1, 1, 1, 1, 1]\n",
      "[0, 0, 0, 0, 0]\n",
      "[1, 1, 1, 1, 1]\n",
      "CPU times: total: 0 ns\n",
      "Wall time: 1.65 s\n"
     ]
    }
   ],
   "source": [
    "%%time\n",
    "def task_5():\n",
    "    n = int(input(\"input n: \"))\n",
    "    \n",
    "    a = []\n",
    "    \n",
    "    for i in range(n):\n",
    "        if i % 2 == 0:\n",
    "            a.append([1] * n)\n",
    "        else:\n",
    "            a.append([0] * n)\n",
    "    \n",
    "    for row in a:\n",
    "        print(row)\n",
    "\n",
    "task_5()"
   ]
  },
  {
   "cell_type": "code",
   "execution_count": 7,
   "id": "7dbaa242-ca70-47c8-bc0d-044f0bbe4ca3",
   "metadata": {},
   "outputs": [
    {
     "name": "stdin",
     "output_type": "stream",
     "text": [
      "input an array :  1 2 0 3 0 4\n"
     ]
    },
    {
     "name": "stdout",
     "output_type": "stream",
     "text": [
      "[ 1  2 -1  3 -1  4]\n",
      "CPU times: total: 0 ns\n",
      "Wall time: 13.2 s\n"
     ]
    }
   ],
   "source": [
    "%%time\n",
    "# task 7\n",
    "def task_7():\n",
    "    a = np.array(list(map(int, input(\"input an array : \").split())))\n",
    "    \n",
    "    a[a == 0] = -1\n",
    "    print(a)\n",
    "\n",
    "task_7()"
   ]
  },
  {
   "cell_type": "code",
   "execution_count": 8,
   "id": "cb67c26e-b7ee-41aa-850e-cda6038dd579",
   "metadata": {},
   "outputs": [
    {
     "name": "stdin",
     "output_type": "stream",
     "text": [
      "Введіть масив:   1 2 0 3 0 4\n"
     ]
    },
    {
     "name": "stdout",
     "output_type": "stream",
     "text": [
      "[1, 2, -1, 3, -1, 4]\n",
      "CPU times: total: 0 ns\n",
      "Wall time: 13.7 s\n"
     ]
    }
   ],
   "source": [
    "%%time\n",
    "def task_7():\n",
    "    a = list(map(int, input(\"Введіть масив: \").split()))\n",
    "    \n",
    "    for i in range(len(a)):\n",
    "        if a[i] == 0:\n",
    "            a[i] = -1\n",
    "    \n",
    "    print(a)\n",
    "\n",
    "task_7()"
   ]
  },
  {
   "cell_type": "code",
   "execution_count": 9,
   "id": "04031eda-b494-4c48-afdc-0e6ae9e29ba9",
   "metadata": {},
   "outputs": [
    {
     "name": "stdin",
     "output_type": "stream",
     "text": [
      "input an array :  1 2 3 4 0 0 0 \n"
     ]
    },
    {
     "name": "stdout",
     "output_type": "stream",
     "text": [
      "zeros : 3\n",
      "non-zeros : 4\n",
      "CPU times: total: 0 ns\n",
      "Wall time: 17.1 s\n"
     ]
    }
   ],
   "source": [
    "%%time\n",
    "# task 8\n",
    "def task_8():\n",
    "    a = np.array(list(map(int, input(\"input an array : \").split())))\n",
    "    \n",
    "    zeros = np.count_nonzero(a == 0)\n",
    "    nonzeros = a.size - zeros\n",
    "\n",
    "    print(f\"zeros : {zeros}\")\n",
    "    print(f\"non-zeros : {nonzeros}\")\n",
    "\n",
    "task_8()"
   ]
  },
  {
   "cell_type": "code",
   "execution_count": 10,
   "id": "a43e54fe-12f7-46fc-a4b0-0f96471e6366",
   "metadata": {},
   "outputs": [
    {
     "name": "stdin",
     "output_type": "stream",
     "text": [
      "input an array :  1 2 3 4 0 0 0 \n"
     ]
    },
    {
     "name": "stdout",
     "output_type": "stream",
     "text": [
      "zeros : 3\n",
      "non-zeros : 4\n",
      "CPU times: total: 0 ns\n",
      "Wall time: 7.45 s\n"
     ]
    }
   ],
   "source": [
    "%%time\n",
    "\n",
    "def task_8():\n",
    "    a = list(map(int, input(\"input an array : \").split()))\n",
    "    \n",
    "    zeros = len([x for x in a if x == 0])\n",
    "    nonzeros = len([x for x in a if x != 0])\n",
    "    \n",
    "    print(f\"zeros : {zeros}\")\n",
    "    print(f\"non-zeros : {nonzeros}\")\n",
    "\n",
    "task_8()"
   ]
  },
  {
   "cell_type": "code",
   "execution_count": 11,
   "id": "62be6a4b-f354-49bd-904c-fbda59a6614c",
   "metadata": {},
   "outputs": [
    {
     "name": "stdin",
     "output_type": "stream",
     "text": [
      "input n:  10\n"
     ]
    },
    {
     "name": "stdout",
     "output_type": "stream",
     "text": [
      "[[0 0 0 0 0 0 0 0 0 0 0 0]\n",
      " [0 1 1 1 1 1 1 1 1 1 1 0]\n",
      " [0 1 1 1 1 1 1 1 1 1 1 0]\n",
      " [0 1 1 1 1 1 1 1 1 1 1 0]\n",
      " [0 1 1 1 1 1 1 1 1 1 1 0]\n",
      " [0 1 1 1 1 1 1 1 1 1 1 0]\n",
      " [0 1 1 1 1 1 1 1 1 1 1 0]\n",
      " [0 1 1 1 1 1 1 1 1 1 1 0]\n",
      " [0 1 1 1 1 1 1 1 1 1 1 0]\n",
      " [0 1 1 1 1 1 1 1 1 1 1 0]\n",
      " [0 1 1 1 1 1 1 1 1 1 1 0]\n",
      " [0 0 0 0 0 0 0 0 0 0 0 0]]\n",
      "CPU times: total: 0 ns\n",
      "Wall time: 8.46 s\n"
     ]
    }
   ],
   "source": [
    "%%time\n",
    "# task 11\n",
    "def task_11():\n",
    "    n = int(input(\"input n: \"))\n",
    "    \n",
    "    a = np.ones((n, n), dtype=int)\n",
    "    frame = np.zeros((n + 2, n + 2), dtype=int)\n",
    "\n",
    "    frame[1:-1, 1:-1] = a\n",
    "    print(frame)\n",
    "\n",
    "task_11()"
   ]
  },
  {
   "cell_type": "code",
   "execution_count": 12,
   "id": "9529b87d-3e28-4a14-9a42-0ffeb51f295f",
   "metadata": {},
   "outputs": [
    {
     "name": "stdin",
     "output_type": "stream",
     "text": [
      "input n :  10\n"
     ]
    },
    {
     "name": "stdout",
     "output_type": "stream",
     "text": [
      "[0, 0, 0, 0, 0, 0, 0, 0, 0, 0, 0, 0]\n",
      "[0, 1, 1, 1, 1, 1, 1, 1, 1, 1, 1, 0]\n",
      "[0, 1, 1, 1, 1, 1, 1, 1, 1, 1, 1, 0]\n",
      "[0, 1, 1, 1, 1, 1, 1, 1, 1, 1, 1, 0]\n",
      "[0, 1, 1, 1, 1, 1, 1, 1, 1, 1, 1, 0]\n",
      "[0, 1, 1, 1, 1, 1, 1, 1, 1, 1, 1, 0]\n",
      "[0, 1, 1, 1, 1, 1, 1, 1, 1, 1, 1, 0]\n",
      "[0, 1, 1, 1, 1, 1, 1, 1, 1, 1, 1, 0]\n",
      "[0, 1, 1, 1, 1, 1, 1, 1, 1, 1, 1, 0]\n",
      "[0, 1, 1, 1, 1, 1, 1, 1, 1, 1, 1, 0]\n",
      "[0, 1, 1, 1, 1, 1, 1, 1, 1, 1, 1, 0]\n",
      "[0, 0, 0, 0, 0, 0, 0, 0, 0, 0, 0, 0]\n",
      "CPU times: total: 0 ns\n",
      "Wall time: 3.76 s\n"
     ]
    }
   ],
   "source": [
    "%%time\n",
    "def task_11():\n",
    "    n = int(input(\"input n : \"))\n",
    "    \n",
    "    a = [[0] * (n + 2) for _ in range(n + 2)]\n",
    "    \n",
    "    for i in range(1, n + 1):\n",
    "        for j in range(1, n + 1):\n",
    "            a[i][j] = 1\n",
    "    \n",
    "    for row in a:\n",
    "        print(row)\n",
    "\n",
    "task_11()"
   ]
  },
  {
   "cell_type": "code",
   "execution_count": 13,
   "id": "437842f0-a026-48b4-b853-fa2202c39fca",
   "metadata": {},
   "outputs": [
    {
     "name": "stdout",
     "output_type": "stream",
     "text": [
      "[[0 1 0 1 0 1 0 1]\n",
      " [0 1 0 1 0 1 0 1]\n",
      " [0 1 0 1 0 1 0 1]\n",
      " [0 1 0 1 0 1 0 1]\n",
      " [0 1 0 1 0 1 0 1]\n",
      " [0 1 0 1 0 1 0 1]\n",
      " [0 1 0 1 0 1 0 1]\n",
      " [0 1 0 1 0 1 0 1]]\n",
      "CPU times: total: 0 ns\n",
      "Wall time: 1.01 ms\n"
     ]
    }
   ],
   "source": [
    "%%time\n",
    "# task 14\n",
    "def task_14():\n",
    "    n = 8\n",
    "    a = np.tile([0, 1], int(n * n / 2)).reshape(n, n)\n",
    "\n",
    "    print(a)\n",
    "\n",
    "task_14()"
   ]
  },
  {
   "cell_type": "code",
   "execution_count": 14,
   "id": "f4c6ca65-dd3d-49b9-a957-51450e7b314f",
   "metadata": {},
   "outputs": [
    {
     "name": "stdout",
     "output_type": "stream",
     "text": [
      "[1, 0, 1, 0, 1, 0, 1, 0]\n",
      "[0, 1, 0, 1, 0, 1, 0, 1]\n",
      "[1, 0, 1, 0, 1, 0, 1, 0]\n",
      "[0, 1, 0, 1, 0, 1, 0, 1]\n",
      "[1, 0, 1, 0, 1, 0, 1, 0]\n",
      "[0, 1, 0, 1, 0, 1, 0, 1]\n",
      "[1, 0, 1, 0, 1, 0, 1, 0]\n",
      "[0, 1, 0, 1, 0, 1, 0, 1]\n",
      "CPU times: total: 0 ns\n",
      "Wall time: 0 ns\n"
     ]
    }
   ],
   "source": [
    "%%time\n",
    "def task_14():\n",
    "    n = 8\n",
    "    a = [[1 if (i + j) % 2 == 0 else 0 for j in range(n)] for i in range(n)]\n",
    "\n",
    "    for row in a:\n",
    "        print(row)\n",
    "\n",
    "task_14()"
   ]
  },
  {
   "cell_type": "code",
   "execution_count": 15,
   "id": "3deb00f9-2429-4406-a700-41eacff9e194",
   "metadata": {},
   "outputs": [
    {
     "name": "stdin",
     "output_type": "stream",
     "text": [
      "input n:  10\n"
     ]
    },
    {
     "name": "stdout",
     "output_type": "stream",
     "text": [
      "[ 0  1  2  0  0  0  0  0  8  9 10]\n",
      "CPU times: total: 0 ns\n",
      "Wall time: 3.65 s\n"
     ]
    }
   ],
   "source": [
    "%%time\n",
    "# task 16\n",
    "def task_16():\n",
    "    n = int(input(\"input n: \"))\n",
    "    \n",
    "    a = np.arange(0, n + 1)\n",
    "    a[(a > n / 4) & (a < 3 * n / 4)] = 0\n",
    "\n",
    "    print(a)\n",
    "\n",
    "task_16()"
   ]
  },
  {
   "cell_type": "code",
   "execution_count": 16,
   "id": "bef99903-0757-450e-9c47-1ec3fdd53052",
   "metadata": {},
   "outputs": [
    {
     "name": "stdin",
     "output_type": "stream",
     "text": [
      "input n:  10\n"
     ]
    },
    {
     "name": "stdout",
     "output_type": "stream",
     "text": [
      "[0, 1, 2, 0, 0, 0, 0, 0, 8, 9, 10]\n",
      "CPU times: total: 0 ns\n",
      "Wall time: 2.86 s\n"
     ]
    }
   ],
   "source": [
    "%%time\n",
    "def task_16():\n",
    "    n = int(input(\"input n: \"))\n",
    "    \n",
    "    a = [x if not (n / 4 < x < 3 * n / 4) else 0 for x in range(n + 1) ]\n",
    "    \n",
    "    print(a)\n",
    "\n",
    "task_16()"
   ]
  },
  {
   "cell_type": "code",
   "execution_count": 17,
   "id": "d9994ea1-a671-410c-bf44-178f42788dbb",
   "metadata": {},
   "outputs": [
    {
     "name": "stdin",
     "output_type": "stream",
     "text": [
      "input n:  10\n"
     ]
    },
    {
     "name": "stdout",
     "output_type": "stream",
     "text": [
      "[  0  -1  -2  -3  -4   5   6   7  -8  -9 -10]\n",
      "CPU times: total: 0 ns\n",
      "Wall time: 11.4 s\n"
     ]
    }
   ],
   "source": [
    "%%time\n",
    "import numpy as np\n",
    "# task 17\n",
    "def task_17():\n",
    "    n = int(input(\"input n: \"))\n",
    "    \n",
    "    a = np.arange(0, n + 1)\n",
    "    a[(a < n / 2) | (a > 3 * n / 4)] = -a[(a < n / 2) | (a > 3 * n / 4)]\n",
    "#    a[(a < n / 2) & (a > 3 * n / 4)] = -a[(a < n / 2) & (a > 3 * n / 4)]\n",
    "    print(a)\n",
    "\n",
    "task_17()"
   ]
  },
  {
   "cell_type": "code",
   "execution_count": 18,
   "id": "52b64263-6015-4278-afbb-4370f5020076",
   "metadata": {},
   "outputs": [
    {
     "name": "stdin",
     "output_type": "stream",
     "text": [
      "input n:  10\n"
     ]
    },
    {
     "name": "stdout",
     "output_type": "stream",
     "text": [
      "[0, -1, -2, -3, -4, 5, 6, 7, -8, -9, -10]\n",
      "CPU times: total: 0 ns\n",
      "Wall time: 6.71 s\n"
     ]
    }
   ],
   "source": [
    "%%time\n",
    "def task_17():\n",
    "    n = int(input(\"input n: \"))\n",
    "    \n",
    "    a = [-x if (x < n / 2 or x > 3 * n / 4) else x for x in range(n + 1)]\n",
    "    \n",
    "    print(a)\n",
    "\n",
    "task_17()"
   ]
  },
  {
   "cell_type": "code",
   "execution_count": 19,
   "id": "05dfe9b3-dc10-4952-bbe6-619b3b4dda5d",
   "metadata": {},
   "outputs": [
    {
     "name": "stdin",
     "output_type": "stream",
     "text": [
      "input n:  7\n"
     ]
    },
    {
     "name": "stdout",
     "output_type": "stream",
     "text": [
      "initial vector : [0.31205952 0.7118077  0.48859971 0.95328671 0.95124138 0.63506114\n",
      " 0.56774303]\n",
      "modified vector : [0.31205952 0.7118077  0.48859971 0.         0.95124138 0.63506114\n",
      " 0.56774303]\n",
      "CPU times: total: 15.6 ms\n",
      "Wall time: 13.4 s\n"
     ]
    }
   ],
   "source": [
    "%%time\n",
    "# task 20\n",
    "def task_20():\n",
    "    n = int(input(\"input n: \"))\n",
    "\n",
    "    a = np.random.rand(n)\n",
    "    print(f\"initial vector : {a}\")\n",
    "    \n",
    "    a[np.argmax(a)] = 0\n",
    "    print(f\"modified vector : {a}\")\n",
    "\n",
    "task_20()"
   ]
  },
  {
   "cell_type": "code",
   "execution_count": 20,
   "id": "a36df6f3-1247-4973-8f12-2d92f470ef2c",
   "metadata": {},
   "outputs": [
    {
     "name": "stdin",
     "output_type": "stream",
     "text": [
      "input n:  7\n"
     ]
    },
    {
     "name": "stdout",
     "output_type": "stream",
     "text": [
      "initial vector : [0.92938772 0.7374764  0.04466395 0.82543476 0.01960033 0.05976144\n",
      " 0.88408615]\n",
      "max value : 0.9293877221276753\n",
      "modified vector : [0, 0.737476403685355, 0.04466395222673092, 0.8254347579590202, 0.019600334068275327, 0.05976144272803252, 0.8840861540556861]\n",
      "CPU times: total: 0 ns\n",
      "Wall time: 3.72 s\n"
     ]
    }
   ],
   "source": [
    "%%time\n",
    "def task_20():\n",
    "    n = int(input(\"input n: \"))\n",
    "\n",
    "    a = np.random.rand(n)\n",
    "    print(f\"initial vector : {a}\")\n",
    "\n",
    "    max_value = max(a)\n",
    "    print(f\"max value : {max_value}\")\n",
    "    \n",
    "    a = [0 if x == max_value else x for x in a]\n",
    "    print(f\"modified vector : {a}\")\n",
    "\n",
    "task_20()"
   ]
  },
  {
   "cell_type": "markdown",
   "id": "e2b0dd46-0fbf-4004-bbd3-8f90a16a8b01",
   "metadata": {},
   "source": [
    "## Task 2"
   ]
  },
  {
   "cell_type": "markdown",
   "id": "099d1ee6-eba6-49eb-b98e-4773dc8e0afc",
   "metadata": {},
   "source": [
    "Система рівнянь для розв'язання згідно варіанту 13:\n",
    "\\\n",
    "\\begin{cases}\n",
    "5x_1+x_2-x_4=-9 \\\\\n",
    "3x_1-3x_2+x_3+4x_4=-7 \\\\\n",
    "3x_1-2x_2+x_4=-16 \\\\\n",
    "x_1-4x_2+x_4=0\n",
    "\\end{cases}\n"
   ]
  },
  {
   "cell_type": "code",
   "execution_count": 23,
   "id": "3a4b4927-d839-4eaa-b2f8-5e7484aba117",
   "metadata": {},
   "outputs": [
    {
     "data": {
      "text/plain": [
       "(array([ -3.66666667,  -4.33333333,  45.66666667, -13.66666667]),\n",
       " array([ -3.66666667,  -4.33333333,  45.66666667, -13.66666667]),\n",
       " array([ -3.66666667,  -4.33333333,  45.66666667, -13.66666667]),\n",
       " array([ -3.66666667,  -4.33333333,  45.66666667, -13.66666667]),\n",
       " True)"
      ]
     },
     "execution_count": 23,
     "metadata": {},
     "output_type": "execute_result"
    }
   ],
   "source": [
    "import numpy as np\n",
    "\n",
    "# Вихідні дані\n",
    "A = np.array([[5, 1, 0, -1], [3, -3, 1, 4], [3, -2, 0, 1], [1, -4, 0, 1]])\n",
    "b = np.array([-9, -7, -16, 0])\n",
    "\n",
    "# 1. Формули Крамера\n",
    "det_A = np.linalg.det(A)\n",
    "\n",
    "# A не дорівнює нулю => система має 1 розв'язок\n",
    "if det_A != 0:\n",
    "    # Заміна стовпців\n",
    "    x_length = A.shape[1]\n",
    "    x_Cramer = np.zeros(x_length)\n",
    "    \n",
    "    for i in range(x_length):\n",
    "        A_temp = A.copy()\n",
    "        A_temp[:, i] = b\n",
    "        det_A_temp = np.linalg.det(A_temp)\n",
    "        x_Cramer[i] = det_A_temp / det_A\n",
    "else:\n",
    "    x_Cramer = None\n",
    "\n",
    "# 2. Множення матриці\n",
    "x_multiplication = np.linalg.inv(A).dot(b)\n",
    "\n",
    "# 3. Обернена матриця\n",
    "A_inv = np.linalg.inv(A)\n",
    "x_inverse = A_inv.dot(b)\n",
    "\n",
    "# 4. NumPy linalg.solve\n",
    "x_numpy = np.linalg.solve(A, b)\n",
    "\n",
    "# 5. Порівняння рішень\n",
    "solutions_match = np.allclose(x_Cramer, x_multiplication) and np.allclose(x_Cramer, x_inverse) and np.allclose(x_Cramer, x_numpy)\n",
    "\n",
    "x_Cramer, x_multiplication, x_inverse, x_numpy, solutions_match\n"
   ]
  },
  {
   "cell_type": "markdown",
   "id": "e17b1d67-cc17-44cf-b1be-86701d692d58",
   "metadata": {},
   "source": [
    "# Task 3"
   ]
  },
  {
   "cell_type": "markdown",
   "id": "ee62cd79-9137-41bb-a01e-83ca2d1bafb9",
   "metadata": {},
   "source": [
    "Згідно варіанту 13 необхідно обчислити значення матричного виразу:\r\n",
    "\r\n",
    "$$\r\n",
    "(A + B)A - B(2A + 3B)\r\n",
    "$$\r\n",
    "\r\n",
    "Де\r\n",
    "$$\r\n",
    "A =    \r\n",
    "\\begin{bmatrix}\r\n",
    "1 & -2 & 3 \\\\\r\n",
    "2 & 3 & 3 \\\\\r\n",
    "1 & 4 & -1\r\n",
    "\\end{bmatrix}\r\n",
    "$$\r\n",
    "\r\n",
    "$$\r\n",
    "B = \r\n",
    "\\begin{bmatrix}\r\n",
    "4 & 11 & 3 \\\\\r\n",
    "1 & 6 & 1 \\\\\r\n",
    "2 & 2 & 16\r\n",
    "\\end{bmatrix}\r\n",
    "$$\r\n",
    "\r\n",
    "### Висновок\r\n",
    "Обидва методи дали однакові результати, але можуть відрізнятися за часом виконання. Використання NumPy, як правило, \r\n",
    "є оптимальним вибором для роботи з матрицями завдяки векторизованим обчисленням.\r\n",
    "екторизованим обчисленням.\r\n",
    " обчисленням.\r\n",
    "екторизованим обчисленням.\r\n",
    "торизованим обчисленням.\r\n",
    "ризованим обчисленням.\r\n",
    "енням."
   ]
  },
  {
   "cell_type": "code",
   "execution_count": 26,
   "id": "eff1fdbb-1500-4bba-bca2-33a88a830f75",
   "metadata": {},
   "outputs": [
    {
     "data": {
      "text/plain": [
       "(0.0013751983642578125,\n",
       " 0.0,\n",
       " True,\n",
       " array([[-128, -381, -287],\n",
       "        [ -37, -142,  -91],\n",
       "        [-140, -258, -768]]),\n",
       " array([[-128, -381, -287],\n",
       "        [ -37, -142,  -91],\n",
       "        [-140, -258, -768]]))"
      ]
     },
     "execution_count": 26,
     "metadata": {},
     "output_type": "execute_result"
    }
   ],
   "source": [
    "import numpy as np\n",
    "import time\n",
    "\n",
    "# Визначення матриць A і B\n",
    "A = np.array([[1,-2, 3],\n",
    "              [2, 3, 5],\n",
    "              [1, 4, -1]])\n",
    "\n",
    "B = np.array([[4, 11, 3],\n",
    "              [1, 6, 1],\n",
    "              [2, 2, 16]])\n",
    "\n",
    "####### NumPy\n",
    "start_time_np = time.time()\n",
    "result_numpy = (A + B) @ A - B @  (2 * A + 3* B)\n",
    "end_time_np = time.time()\n",
    "time_numpy = end_time_np - start_time_np\n",
    "\n",
    "####### Обчислення виразу з використанням ітерацій\n",
    "start_time_i = time.time()\n",
    "def matrix_addition(X, Y):\n",
    "    rows, cols = X.shape\n",
    "    result = np.zeros((rows, cols), dtype=int)\n",
    "    for i in range(rows):\n",
    "        for j in range(cols):\n",
    "            result[i][j] = X[i][j] + Y[i][j]\n",
    "    return result\n",
    "\n",
    "def matrix_multiplication(X, Y):\n",
    "    rows_X, cols_X = X.shape\n",
    "    rows_Y, cols_Y = Y.shape\n",
    "    result = np.zeros((rows_X, cols_Y), dtype=int)\n",
    "    for i in range(rows_X):\n",
    "        for j in range(cols_Y):\n",
    "            for k in range(cols_X):\n",
    "                result[i][j] += X[i][k] * Y[k][j]\n",
    "    return result\n",
    "\n",
    "def scalar_multiplication(scalar, X):\n",
    "    rows, cols = X.shape\n",
    "    result = np.zeros((rows, cols), dtype=int)\n",
    "    for i in range(rows):\n",
    "        for j in range(cols):\n",
    "            result[i][j] = scalar * X[i][j]\n",
    "    return result\n",
    "\n",
    "# (A + B)A\n",
    "C = matrix_addition(A, B)\n",
    "C_A = matrix_multiplication(C, A)\n",
    "\n",
    "# B(2A + 3B)\n",
    "two_A = scalar_multiplication(2, A)\n",
    "three_B = scalar_multiplication(3, B)\n",
    "D = matrix_addition(two_A, three_B)\n",
    "D_B = matrix_multiplication(B, D)\n",
    "\n",
    "# (A + B)A - B(2A + 3B)\n",
    "result_iterative = matrix_addition(C_A, -D_B)\n",
    "end_time_i = time.time()\n",
    "time_iterative = end_time_i - start_time_i\n",
    "\n",
    "# Порівняння результатів\n",
    "comparison = np.allclose(result_numpy, result_iterative)\n",
    "\n",
    "time_numpy, time_iterative, comparison, result_numpy, result_iterative\n"
   ]
  },
  {
   "cell_type": "code",
   "execution_count": null,
   "id": "9e60710a-2922-4a60-8873-5f5d074a5265",
   "metadata": {},
   "outputs": [],
   "source": []
  }
 ],
 "metadata": {
  "kernelspec": {
   "display_name": "Python 3 (ipykernel)",
   "language": "python",
   "name": "python3"
  },
  "language_info": {
   "codemirror_mode": {
    "name": "ipython",
    "version": 3
   },
   "file_extension": ".py",
   "mimetype": "text/x-python",
   "name": "python",
   "nbconvert_exporter": "python",
   "pygments_lexer": "ipython3",
   "version": "3.12.4"
  }
 },
 "nbformat": 4,
 "nbformat_minor": 5
}
